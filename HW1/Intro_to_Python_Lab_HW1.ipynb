{
 "cells": [
  {
   "cell_type": "markdown",
   "id": "b9c6cf18",
   "metadata": {},
   "source": [
    "## Name: Joel Miller\n",
    "\n"
   ]
  },
  {
   "cell_type": "markdown",
   "id": "99fb4069",
   "metadata": {},
   "source": [
    "## Question 1\n",
    "\n",
    "Write a function is_divisible() with arguments start and end that prints the numbers starting from start to end (inclusive) in a single line each. If the number is divisible by 3, print \"Divisible by 3!\" instead of the number; if the number is divisible by 5, print \"Divisible by 5!\". Finally, if it is divisible by both, print \"GO Tigers!\" instead.\n",
    "\n",
    "Example is_divisible(7,16):"
   ]
  },
  {
   "cell_type": "code",
   "execution_count": 1,
   "id": "96641c8f",
   "metadata": {},
   "outputs": [
    {
     "name": "stdout",
     "output_type": "stream",
     "text": [
      "7\n",
      "8\n",
      "Divisible by 3!\n",
      "Divisible by 5!\n",
      "11\n",
      "Divisible by 3!\n",
      "13\n",
      "14\n",
      "GO Tigers!\n",
      "16\n"
     ]
    }
   ],
   "source": [
    "def is_divisible(start, end):\n",
    "    for i in range(start,end +1 ):\n",
    "        if(i % 3 == 0) and (i % 5 == 0):\n",
    "            print(\"GO Tigers!\")\n",
    "        elif (i % 3 == 0):\n",
    "            print(\"Divisible by 3!\")\n",
    "        elif (i % 5 == 0):\n",
    "            print(\"Divisible by 5!\")\n",
    "        else:\n",
    "        \n",
    "            print(i)\n",
    "        \n",
    "    \n",
    "is_divisible(7,16)"
   ]
  },
  {
   "cell_type": "markdown",
   "id": "755a8dfe",
   "metadata": {},
   "source": [
    "## Question 2. Reverse Given Inputs\n",
    "\n",
    "Write a function to reverse the given inputs without using reversed() or reverse() method.\n",
    "\n",
    "The return data type should be the same as the input data type, i.e., String should be returned as a string, and List should be returned as a List."
   ]
  },
  {
   "cell_type": "code",
   "execution_count": 2,
   "id": "235a0f1e",
   "metadata": {},
   "outputs": [
    {
     "name": "stdout",
     "output_type": "stream",
     "text": [
      "GFEDCBA\n",
      "['G', 'F', 'E', 'D', 'C', 'B', 'A']\n",
      "[10, 9, 8, 6, 5, 4, 3, 2, 1]\n"
     ]
    }
   ],
   "source": [
    "def reverse_input(data):\n",
    "    if isinstance(data, str):\n",
    "        # If the input is a string, reverse it using slicing\n",
    "        return data[::-1]\n",
    "    elif isinstance(data, list):\n",
    "        # If the input is a list, reverse it using slicing\n",
    "        return data[::-1]\n",
    "    else:\n",
    "        # Return the input unchanged for unsupported data types\n",
    "        return data\n",
    "\n",
    "# Test cases\n",
    "print(reverse_input('ABCDEFG'))  # Output: 'GFEDCBA'\n",
    "print(reverse_input(['A', 'B', 'C', 'D', 'E', 'F', 'G']))  # Output: ['G', 'F', 'E', 'D', 'C', 'B', 'A']\n",
    "print(reverse_input([1, 2, 3, 4, 5, 6, 8, 9, 10]))  # Output: [10, 9, 8, 6, 5, 4, 3, 2, 1]\n"
   ]
  },
  {
   "cell_type": "raw",
   "id": "b616d57c",
   "metadata": {},
   "source": [
    "print(reverse_input('ABCDEFG'))\n",
    "print(reverse_input(['A', 'B', 'C', 'D' , 'E', 'F', 'G']))\n",
    "print(reverse_input([1, 2, 3, 4, 5, 6, 8, 9, 10]))"
   ]
  },
  {
   "cell_type": "markdown",
   "id": "48ada4f2",
   "metadata": {},
   "source": [
    "## Question 3. Skipped Characters\n",
    "\n",
    "Write a function that takes a string as an input and uses a stride value of 2 to create a new string using every second character of the given string."
   ]
  },
  {
   "cell_type": "code",
   "execution_count": 4,
   "id": "81dbb4e2",
   "metadata": {},
   "outputs": [
    {
     "name": "stdout",
     "output_type": "stream",
     "text": [
      "correct\n",
      "wrong\n"
     ]
    }
   ],
   "source": [
    "def skip_characters(a):\n",
    "    result = a[::2]\n",
    "    return result\n",
    "print(skip_characters('clocrkr1e1c1t')) # should return the word 'correct'\n",
    "print(skip_characters('wlrcokn1g')) # should return the word 'wrong'"
   ]
  },
  {
   "cell_type": "code",
   "execution_count": null,
   "id": "2eaca406",
   "metadata": {},
   "outputs": [],
   "source": [
    "print(skip_characters('clocrkr1e1c1t')) # should return the word 'correct'\n",
    "print(skip_characters('wlrcokn1g')) # should return the word 'wrong'"
   ]
  },
  {
   "cell_type": "markdown",
   "id": "e6c4a4d6",
   "metadata": {},
   "source": [
    "## Question 4. Unique Character Index\n",
    "Write a function that takes a string that may or may not contain duplicate characters \n",
    "and return the index of the first unique character in the string. If there are no duplicate characters, return a string \"No unique character\"\n",
    "\n",
    "Hint: You can use dictionary "
   ]
  },
  {
   "cell_type": "code",
   "execution_count": 5,
   "id": "713b2191",
   "metadata": {},
   "outputs": [
    {
     "name": "stdout",
     "output_type": "stream",
     "text": [
      "0\n",
      "3\n",
      "No unique character\n"
     ]
    }
   ],
   "source": [
    "def find_first_unique_character(s):\n",
    "    char_count = {}  # Dictionary to store character counts\n",
    "\n",
    "    # Count the occurrence of each character in the string\n",
    "    for char in s:\n",
    "        if char in char_count:\n",
    "            char_count[char] += 1\n",
    "        else:\n",
    "            char_count[char] = 1\n",
    "\n",
    "    # Find the index of the first unique character\n",
    "    for i, char in enumerate(s):\n",
    "        if char_count[char] == 1:\n",
    "            return i\n",
    "\n",
    "    # If no unique character is found, return the specified message\n",
    "    return \"No unique character\"\n",
    "\n",
    "# Test cases\n",
    "print(find_first_unique_character('clemson'))  # Output: 0 (c is the first unique character)\n",
    "print(find_first_unique_character('applieddatascience'))  # Output: 3 ('l' is the first unique character)\n",
    "print(find_first_unique_character('cclleemmssoonn'))  # Output: \"No unique character\"\n"
   ]
  },
  {
   "cell_type": "code",
   "execution_count": null,
   "id": "2e823e96",
   "metadata": {},
   "outputs": [],
   "source": [
    "print(find_first_unique_character('clemson')) # return 0, since every character is unique, and c is the first unique character\n",
    "print(find_first_unique_character('applieddatascience')) # return 3, character 'l'\n",
    "print(find_first_unique_character('cclleemmssoonn')) # return \"No unique character\""
   ]
  },
  {
   "cell_type": "markdown",
   "id": "02cd329a",
   "metadata": {},
   "source": [
    "## Question 5. Convert character case\n",
    "\n",
    "Write a function that takes a string containing both upper and lower characters and converts the lower case character to upper case and vice versa. Return the converted string"
   ]
  },
  {
   "cell_type": "code",
   "execution_count": 6,
   "id": "b63670ad",
   "metadata": {},
   "outputs": [],
   "source": [
    "def convert_case(string):\n",
    "    return string.swapcase()"
   ]
  },
  {
   "cell_type": "code",
   "execution_count": null,
   "id": "a0a51001",
   "metadata": {},
   "outputs": [],
   "source": [
    "print(convert_case('clemson')) # return 'CLEMSON'\n",
    "print(convert_case('AppliedDataScience')) # return 'aPPLIEDdATAsCIENCE'\n",
    "print(convert_case('cLeMSoN')) # return 'ClEmsOn'"
   ]
  },
  {
   "cell_type": "markdown",
   "id": "dc9de132",
   "metadata": {},
   "source": [
    "## Question 6. Remove duplicates\n",
    "\n",
    "Write a function that takes a list of integers/strings, removes the duplicate elements, and returns a list of unique elements."
   ]
  },
  {
   "cell_type": "code",
   "execution_count": 7,
   "id": "896c02c7",
   "metadata": {},
   "outputs": [
    {
     "name": "stdout",
     "output_type": "stream",
     "text": [
      "[1, 2, 3, 4, 5]\n",
      "[1, 2, 3, 4, 5]\n",
      "[5, 4, 3, 2, 1]\n",
      "['a', 'b', 'c', 'd']\n"
     ]
    }
   ],
   "source": [
    "\n",
    "def get_unique_numbers(numbers):\n",
    "    unique_elements = []\n",
    "    for item in numbers:\n",
    "        if item not in unique_elements:\n",
    "            unique_elements.append(item)\n",
    "    return unique_elements\n",
    "\n",
    "# Test cases\n",
    "print(get_unique_numbers([1, 2, 3, 4, 5]))  # Output: [1, 2, 3, 4, 5]\n",
    "print(get_unique_numbers([1, 1, 2, 2, 3, 3, 4, 4, 5, 5]))  # Output: [1, 2, 3, 4, 5]\n",
    "print(get_unique_numbers([5, 5, 4, 3, 2, 2, 2, 2, 2, 2, 2, 1]))  # Output: [5, 4, 3, 2, 1]\n",
    "print(get_unique_numbers(['a', 'a', 'a', 'b', 'b', 'b', 'c', 'c', 'c', 'd', 'd', 'd']))  # Output: ['a', 'b', 'c', 'd']\n"
   ]
  },
  {
   "cell_type": "code",
   "execution_count": 8,
   "id": "29a8c510",
   "metadata": {},
   "outputs": [
    {
     "name": "stdout",
     "output_type": "stream",
     "text": [
      "None\n",
      "None\n",
      "None\n",
      "None\n"
     ]
    }
   ],
   "source": [
    "print(get_unique_numbers([1, 2, 3, 4, 5])) # return [1,2,3,4,5]\n",
    "print(get_unique_numbers([1, 1, 2, 2, 3, 3, 4, 4, 5, 5])) # return [1,2,3,4,5]\n",
    "print(get_unique_numbers([5, 5, 4, 3, 2, 2, 2, 2, 2, 2, 2, 1])) # return [5,4,3,2,1]\n",
    "print(get_unique_numbers(['a', 'a', 'a', 'b', 'b', 'b', 'c', 'c', 'c', 'd', 'd', 'd'])) # return ['a', 'b', 'c', 'd']"
   ]
  },
  {
   "cell_type": "markdown",
   "id": "2e922e57",
   "metadata": {},
   "source": [
    "## Question 7, Print Elements\n",
    "\n",
    "Write a function print_elements(l) that prints every element of the list elements. If an element is a list by itself, the list of elements should be printed one by one instead of printing the whole list of elements at once. To find out if a variable x is a list, use type(x). Note that the function should not return anything!\n",
    "\n",
    "Eg: [1, \"hello\"] should be printed as 1, then \"hello\", instead of [1, \"hello\"]"
   ]
  },
  {
   "cell_type": "code",
   "execution_count": 8,
   "id": "7eef0972",
   "metadata": {},
   "outputs": [
    {
     "name": "stdout",
     "output_type": "stream",
     "text": [
      "1\n",
      "hello\n",
      "3\n",
      "4\n",
      "5\n",
      "6\n",
      "1\n",
      "2\n",
      "3\n"
     ]
    }
   ],
   "source": [
    "def print_elements(elements):\n",
    "    for item in elements:\n",
    "        if isinstance(item, list):\n",
    "            # If the item is a list, call the function recursively\n",
    "            print_elements(item)\n",
    "        else:\n",
    "            # If the item is not a list, print it\n",
    "            print(item)\n",
    "\n",
    "# Test case\n",
    "print_elements([[1, \"hello\"], 3, [4, 5, 6], [1, [2, [3]]]])\n"
   ]
  },
  {
   "cell_type": "code",
   "execution_count": null,
   "id": "eb51e68f",
   "metadata": {},
   "outputs": [],
   "source": [
    "print_elements([[1,\"hello\"], 3, [4,5,6],[1,[2,[3]]]])"
   ]
  }
 ],
 "metadata": {
  "kernelspec": {
   "display_name": "Python 3 (ipykernel)",
   "language": "python",
   "name": "python3"
  },
  "language_info": {
   "codemirror_mode": {
    "name": "ipython",
    "version": 3
   },
   "file_extension": ".py",
   "mimetype": "text/x-python",
   "name": "python",
   "nbconvert_exporter": "python",
   "pygments_lexer": "ipython3",
   "version": "3.11.3"
  }
 },
 "nbformat": 4,
 "nbformat_minor": 5
}
